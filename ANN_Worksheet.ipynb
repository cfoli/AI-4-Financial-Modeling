{
  "cells": [
    {
      "cell_type": "markdown",
      "metadata": {
        "id": "view-in-github",
        "colab_type": "text"
      },
      "source": [
        "<a href=\"https://colab.research.google.com/github/cfoli/AI-4-Financial-Modeling/blob/main/ANN_Worksheet.ipynb\" target=\"_parent\"><img src=\"https://colab.research.google.com/assets/colab-badge.svg\" alt=\"Open In Colab\"/></a>"
      ]
    },
    {
      "cell_type": "code",
      "execution_count": null,
      "metadata": {
        "collapsed": true,
        "id": "iwyH8ilwlJ1c"
      },
      "outputs": [],
      "source": []
    },
    {
      "cell_type": "code",
      "execution_count": null,
      "metadata": {
        "id": "HPj0JvWYzquU"
      },
      "outputs": [],
      "source": []
    },
    {
      "cell_type": "code",
      "execution_count": null,
      "metadata": {
        "colab": {
          "base_uri": "https://localhost:8080/"
        },
        "collapsed": true,
        "id": "DEMh0vOJvdBA",
        "outputId": "7a2dd571-7694-46e0-e7fc-a5017ab5357c"
      },
      "outputs": [
        {
          "name": "stdout",
          "output_type": "stream",
          "text": [
            "\u001b[1m2/2\u001b[0m \u001b[32m━━━━━━━━━━━━━━━━━━━━\u001b[0m\u001b[37m\u001b[0m \u001b[1m0s\u001b[0m 9ms/step - accuracy: 0.7475 - loss: 0.5465  \n",
            "\u001b[1m2/2\u001b[0m \u001b[32m━━━━━━━━━━━━━━━━━━━━\u001b[0m\u001b[37m\u001b[0m \u001b[1m0s\u001b[0m 8ms/step - accuracy: 0.8686 - loss: 0.3370  \n",
            "\u001b[1m2/2\u001b[0m \u001b[32m━━━━━━━━━━━━━━━━━━━━\u001b[0m\u001b[37m\u001b[0m \u001b[1m0s\u001b[0m 8ms/step - accuracy: 0.7842 - loss: 0.7526  \n",
            "\u001b[1m2/2\u001b[0m \u001b[32m━━━━━━━━━━━━━━━━━━━━\u001b[0m\u001b[37m\u001b[0m \u001b[1m0s\u001b[0m 9ms/step - accuracy: 0.7599 - loss: 0.3815  \n",
            "\u001b[1m2/2\u001b[0m \u001b[32m━━━━━━━━━━━━━━━━━━━━\u001b[0m\u001b[37m\u001b[0m \u001b[1m1s\u001b[0m 396ms/step - accuracy: 0.8399 - loss: 0.5734\n",
            "CVDA: 81.25% (+/- 4.62%)\n"
          ]
        }
      ],
      "source": [
        "from sklearn.model_selection import StratifiedKFold\n",
        "from sklearn.preprocessing import StandardScaler\n",
        "import numpy as np\n",
        "\n",
        "# Binary Classification with Sonar Dataset: Standardized Smaller\n",
        "import pandas as pd\n",
        "from tensorflow.keras.models import Model\n",
        "from tensorflow.keras import layers\n",
        "from tensorflow.keras import utils\n",
        "from sklearn import model_selection\n",
        "from sklearn import preprocessing\n",
        "from sklearn.pipeline import Pipeline\n",
        "import numpy as np\n",
        "\n",
        "# load dataset\n",
        "dataset = pd.read_csv(\"sonar.all-data\", header=None).values\n",
        "\n",
        "# split into input (X) and output (Y) variables\n",
        "X = dataset[:,0:60].astype(float)\n",
        "Y = dataset[:,60]\n",
        "\n",
        "# encode class values as integers\n",
        "encoder   = preprocessing.LabelEncoder()\n",
        "encoder.fit(Y)\n",
        "encoded_Y = encoder.transform(Y)\n",
        "\n",
        "# One-hot encoding\n",
        "# encoded_Y      = utils.to_categorical(encoded_Y)\n",
        "\n",
        "num_classes  = np.unique(Y).size\n",
        "input_shape = (X.shape[1],)\n",
        "\n",
        "\n",
        "def build_graspnet(input_shape, dropoutRate=.25):\n",
        "\n",
        "    input_layer   = layers.Input(shape = input_shape)\n",
        "    input_layer   = layers.BatchNormalization()(input_layer)\n",
        "\n",
        "    block1       = layers.Dense(units=64, name = 'hidden1')(input_layer)\n",
        "    block1       = layers.BatchNormalization()(block1)\n",
        "    block1       = layers.Activation('relu')(block1)\n",
        "    block1       = layers.Dropout(rate=dropoutRate)(block1)\n",
        "\n",
        "    model_output = layers.Dense(units=1, name = 'output_layer')(block1)\n",
        "    model_output = layers.Activation('sigmoid')(model_output)\n",
        "\n",
        "    model = Model(inputs=input_layer, outputs=model_output)\n",
        "\n",
        "\t# Compile model\n",
        "    model.compile(loss='binary_crossentropy', optimizer='adam', metrics=['accuracy'])\n",
        "\n",
        "    return model\n",
        "\n",
        "\n",
        "# Standardize the dataset\n",
        "scaler = StandardScaler()\n",
        "X_scaled = scaler.fit_transform(X)\n",
        "\n",
        "# Initialize cross-validation\n",
        "kfold = StratifiedKFold(n_splits=5, shuffle=True, random_state=42)\n",
        "scores = []\n",
        "\n",
        "# Perform cross-validation manually\n",
        "for train_idx, test_idx in kfold.split(X_scaled, encoded_Y):\n",
        "    X_train, X_test = X_scaled[train_idx], X_scaled[test_idx]\n",
        "    Y_train, Y_test = encoded_Y[train_idx], encoded_Y[test_idx]\n",
        "\n",
        "    # Create and fit the model\n",
        "    model = build_graspnet(input_shape=input_shape, dropoutRate=.5)\n",
        "    model.fit(X_train, Y_train, epochs=150, batch_size=96, verbose=0)\n",
        "\n",
        "    # Evaluate the model\n",
        "    _, accuracy = model.evaluate(X_test, Y_test, verbose=1)\n",
        "    scores.append(accuracy)\n",
        "\n",
        "print(f\"CVDA: {np.mean(scores) * 100:.2f}% (+/- {np.std(scores) * 100:.2f}%)\")\n"
      ]
    },
    {
      "cell_type": "code",
      "execution_count": null,
      "metadata": {
        "colab": {
          "base_uri": "https://localhost:8080/"
        },
        "id": "3kdtGRbVlgZU",
        "outputId": "8760ded5-7663-4ab1-ae97-e0a935e3363e"
      },
      "outputs": [
        {
          "name": "stdout",
          "output_type": "stream",
          "text": [
            "Found existing installation: scikit-learn 1.6.1\n",
            "Uninstalling scikit-learn-1.6.1:\n",
            "  Successfully uninstalled scikit-learn-1.6.1\n",
            "Collecting scikit-learn==1.5.2\n",
            "  Downloading scikit_learn-1.5.2-cp311-cp311-manylinux_2_17_x86_64.manylinux2014_x86_64.whl.metadata (13 kB)\n",
            "Requirement already satisfied: numpy>=1.19.5 in /usr/local/lib/python3.11/dist-packages (from scikit-learn==1.5.2) (1.26.4)\n",
            "Requirement already satisfied: scipy>=1.6.0 in /usr/local/lib/python3.11/dist-packages (from scikit-learn==1.5.2) (1.13.1)\n",
            "Requirement already satisfied: joblib>=1.2.0 in /usr/local/lib/python3.11/dist-packages (from scikit-learn==1.5.2) (1.4.2)\n",
            "Requirement already satisfied: threadpoolctl>=3.1.0 in /usr/local/lib/python3.11/dist-packages (from scikit-learn==1.5.2) (3.5.0)\n",
            "Downloading scikit_learn-1.5.2-cp311-cp311-manylinux_2_17_x86_64.manylinux2014_x86_64.whl (13.3 MB)\n",
            "\u001b[2K   \u001b[90m━━━━━━━━━━━━━━━━━━━━━━━━━━━━━━━━━━━━━━━━\u001b[0m \u001b[32m13.3/13.3 MB\u001b[0m \u001b[31m77.8 MB/s\u001b[0m eta \u001b[36m0:00:00\u001b[0m\n",
            "\u001b[?25hInstalling collected packages: scikit-learn\n",
            "Successfully installed scikit-learn-1.5.2\n"
          ]
        }
      ],
      "source": [
        "# !pip install scikeras\n",
        "!pip uninstall -y scikit-learn\n",
        "!pip install scikit-learn==1.5.2"
      ]
    },
    {
      "cell_type": "code",
      "execution_count": null,
      "metadata": {
        "colab": {
          "base_uri": "https://localhost:8080/"
        },
        "id": "DYME75o2rzDa",
        "outputId": "fccb297b-7d9c-4d9e-d51f-c180e9b317b5"
      },
      "outputs": [
        {
          "data": {
            "text/plain": [
              "(208, 60)"
            ]
          },
          "execution_count": 44,
          "metadata": {},
          "output_type": "execute_result"
        }
      ],
      "source": [
        "# encoded_Y\n",
        "X.shape"
      ]
    },
    {
      "cell_type": "code",
      "execution_count": null,
      "metadata": {
        "id": "kcxJo3t50woC"
      },
      "outputs": [],
      "source": []
    },
    {
      "cell_type": "markdown",
      "metadata": {
        "id": "W-KjTIYYq9xU"
      },
      "source": [
        "# MLP (MNIST: SEQUENTIAL API)"
      ]
    },
    {
      "cell_type": "code",
      "execution_count": null,
      "metadata": {
        "colab": {
          "base_uri": "https://localhost:8080/",
          "height": 1000
        },
        "id": "PE-lA8kC0wsy",
        "outputId": "629112d8-ffaf-440d-aaf5-f78459192150"
      },
      "outputs": [
        {
          "name": "stdout",
          "output_type": "stream",
          "text": [
            "Trial 5 Complete [00h 00m 26s]\n",
            "val_accuracy: 0.9354499876499176\n",
            "\n",
            "Best val_accuracy So Far: 0.9718999862670898\n",
            "Total elapsed time: 00h 03m 40s\n"
          ]
        },
        {
          "name": "stderr",
          "output_type": "stream",
          "text": [
            "/usr/local/lib/python3.11/dist-packages/keras/src/saving/saving_lib.py:713: UserWarning: Skipping variable loading for optimizer 'adam', because it has 2 variables whereas the saved optimizer has 18 variables. \n",
            "  saveable.load_own_variables(weights_store.get(inner_path))\n",
            "/usr/local/lib/python3.11/dist-packages/keras/src/saving/saving_lib.py:713: UserWarning: Skipping variable loading for optimizer 'adam', because it has 2 variables whereas the saved optimizer has 14 variables. \n",
            "  saveable.load_own_variables(weights_store.get(inner_path))\n"
          ]
        },
        {
          "data": {
            "text/html": [
              "<pre style=\"white-space:pre;overflow-x:auto;line-height:normal;font-family:Menlo,'DejaVu Sans Mono',consolas,'Courier New',monospace\"><span style=\"font-weight: bold\">Model: \"sequential\"</span>\n",
              "</pre>\n"
            ],
            "text/plain": [
              "\u001b[1mModel: \"sequential\"\u001b[0m\n"
            ]
          },
          "metadata": {},
          "output_type": "display_data"
        },
        {
          "data": {
            "text/html": [
              "<pre style=\"white-space:pre;overflow-x:auto;line-height:normal;font-family:Menlo,'DejaVu Sans Mono',consolas,'Courier New',monospace\">┏━━━━━━━━━━━━━━━━━━━━━━━━━━━━━━━━━━━━━━┳━━━━━━━━━━━━━━━━━━━━━━━━━━━━━┳━━━━━━━━━━━━━━━━━┓\n",
              "┃<span style=\"font-weight: bold\"> Layer (type)                         </span>┃<span style=\"font-weight: bold\"> Output Shape                </span>┃<span style=\"font-weight: bold\">         Param # </span>┃\n",
              "┡━━━━━━━━━━━━━━━━━━━━━━━━━━━━━━━━━━━━━━╇━━━━━━━━━━━━━━━━━━━━━━━━━━━━━╇━━━━━━━━━━━━━━━━━┩\n",
              "│ flatten (<span style=\"color: #0087ff; text-decoration-color: #0087ff\">Flatten</span>)                    │ (<span style=\"color: #00d7ff; text-decoration-color: #00d7ff\">None</span>, <span style=\"color: #00af00; text-decoration-color: #00af00\">784</span>)                 │               <span style=\"color: #00af00; text-decoration-color: #00af00\">0</span> │\n",
              "├──────────────────────────────────────┼─────────────────────────────┼─────────────────┤\n",
              "│ dense (<span style=\"color: #0087ff; text-decoration-color: #0087ff\">Dense</span>)                        │ (<span style=\"color: #00d7ff; text-decoration-color: #00d7ff\">None</span>, <span style=\"color: #00af00; text-decoration-color: #00af00\">384</span>)                 │         <span style=\"color: #00af00; text-decoration-color: #00af00\">301,440</span> │\n",
              "├──────────────────────────────────────┼─────────────────────────────┼─────────────────┤\n",
              "│ dense_1 (<span style=\"color: #0087ff; text-decoration-color: #0087ff\">Dense</span>)                      │ (<span style=\"color: #00d7ff; text-decoration-color: #00d7ff\">None</span>, <span style=\"color: #00af00; text-decoration-color: #00af00\">128</span>)                 │          <span style=\"color: #00af00; text-decoration-color: #00af00\">49,280</span> │\n",
              "├──────────────────────────────────────┼─────────────────────────────┼─────────────────┤\n",
              "│ dense_2 (<span style=\"color: #0087ff; text-decoration-color: #0087ff\">Dense</span>)                      │ (<span style=\"color: #00d7ff; text-decoration-color: #00d7ff\">None</span>, <span style=\"color: #00af00; text-decoration-color: #00af00\">64</span>)                  │           <span style=\"color: #00af00; text-decoration-color: #00af00\">8,256</span> │\n",
              "├──────────────────────────────────────┼─────────────────────────────┼─────────────────┤\n",
              "│ dense_3 (<span style=\"color: #0087ff; text-decoration-color: #0087ff\">Dense</span>)                      │ (<span style=\"color: #00d7ff; text-decoration-color: #00d7ff\">None</span>, <span style=\"color: #00af00; text-decoration-color: #00af00\">10</span>)                  │             <span style=\"color: #00af00; text-decoration-color: #00af00\">650</span> │\n",
              "└──────────────────────────────────────┴─────────────────────────────┴─────────────────┘\n",
              "</pre>\n"
            ],
            "text/plain": [
              "┏━━━━━━━━━━━━━━━━━━━━━━━━━━━━━━━━━━━━━━┳━━━━━━━━━━━━━━━━━━━━━━━━━━━━━┳━━━━━━━━━━━━━━━━━┓\n",
              "┃\u001b[1m \u001b[0m\u001b[1mLayer (type)                        \u001b[0m\u001b[1m \u001b[0m┃\u001b[1m \u001b[0m\u001b[1mOutput Shape               \u001b[0m\u001b[1m \u001b[0m┃\u001b[1m \u001b[0m\u001b[1m        Param #\u001b[0m\u001b[1m \u001b[0m┃\n",
              "┡━━━━━━━━━━━━━━━━━━━━━━━━━━━━━━━━━━━━━━╇━━━━━━━━━━━━━━━━━━━━━━━━━━━━━╇━━━━━━━━━━━━━━━━━┩\n",
              "│ flatten (\u001b[38;5;33mFlatten\u001b[0m)                    │ (\u001b[38;5;45mNone\u001b[0m, \u001b[38;5;34m784\u001b[0m)                 │               \u001b[38;5;34m0\u001b[0m │\n",
              "├──────────────────────────────────────┼─────────────────────────────┼─────────────────┤\n",
              "│ dense (\u001b[38;5;33mDense\u001b[0m)                        │ (\u001b[38;5;45mNone\u001b[0m, \u001b[38;5;34m384\u001b[0m)                 │         \u001b[38;5;34m301,440\u001b[0m │\n",
              "├──────────────────────────────────────┼─────────────────────────────┼─────────────────┤\n",
              "│ dense_1 (\u001b[38;5;33mDense\u001b[0m)                      │ (\u001b[38;5;45mNone\u001b[0m, \u001b[38;5;34m128\u001b[0m)                 │          \u001b[38;5;34m49,280\u001b[0m │\n",
              "├──────────────────────────────────────┼─────────────────────────────┼─────────────────┤\n",
              "│ dense_2 (\u001b[38;5;33mDense\u001b[0m)                      │ (\u001b[38;5;45mNone\u001b[0m, \u001b[38;5;34m64\u001b[0m)                  │           \u001b[38;5;34m8,256\u001b[0m │\n",
              "├──────────────────────────────────────┼─────────────────────────────┼─────────────────┤\n",
              "│ dense_3 (\u001b[38;5;33mDense\u001b[0m)                      │ (\u001b[38;5;45mNone\u001b[0m, \u001b[38;5;34m10\u001b[0m)                  │             \u001b[38;5;34m650\u001b[0m │\n",
              "└──────────────────────────────────────┴─────────────────────────────┴─────────────────┘\n"
            ]
          },
          "metadata": {},
          "output_type": "display_data"
        },
        {
          "data": {
            "text/html": [
              "<pre style=\"white-space:pre;overflow-x:auto;line-height:normal;font-family:Menlo,'DejaVu Sans Mono',consolas,'Courier New',monospace\"><span style=\"font-weight: bold\"> Total params: </span><span style=\"color: #00af00; text-decoration-color: #00af00\">359,626</span> (1.37 MB)\n",
              "</pre>\n"
            ],
            "text/plain": [
              "\u001b[1m Total params: \u001b[0m\u001b[38;5;34m359,626\u001b[0m (1.37 MB)\n"
            ]
          },
          "metadata": {},
          "output_type": "display_data"
        },
        {
          "data": {
            "text/html": [
              "<pre style=\"white-space:pre;overflow-x:auto;line-height:normal;font-family:Menlo,'DejaVu Sans Mono',consolas,'Courier New',monospace\"><span style=\"font-weight: bold\"> Trainable params: </span><span style=\"color: #00af00; text-decoration-color: #00af00\">359,626</span> (1.37 MB)\n",
              "</pre>\n"
            ],
            "text/plain": [
              "\u001b[1m Trainable params: \u001b[0m\u001b[38;5;34m359,626\u001b[0m (1.37 MB)\n"
            ]
          },
          "metadata": {},
          "output_type": "display_data"
        },
        {
          "data": {
            "text/html": [
              "<pre style=\"white-space:pre;overflow-x:auto;line-height:normal;font-family:Menlo,'DejaVu Sans Mono',consolas,'Courier New',monospace\"><span style=\"font-weight: bold\"> Non-trainable params: </span><span style=\"color: #00af00; text-decoration-color: #00af00\">0</span> (0.00 B)\n",
              "</pre>\n"
            ],
            "text/plain": [
              "\u001b[1m Non-trainable params: \u001b[0m\u001b[38;5;34m0\u001b[0m (0.00 B)\n"
            ]
          },
          "metadata": {},
          "output_type": "display_data"
        },
        {
          "name": "stdout",
          "output_type": "stream",
          "text": [
            "Results summary\n",
            "Results in keras_tuner/helloworld\n",
            "Showing 10 best trials\n",
            "Objective(name=\"val_accuracy\", direction=\"max\")\n",
            "\n",
            "Trial 2 summary\n",
            "Hyperparameters:\n",
            "num_layers: 3\n",
            "units_0: 384\n",
            "activation: relu\n",
            "dropout: False\n",
            "lr: 0.00034844298688115446\n",
            "units_1: 128\n",
            "units_2: 64\n",
            "Score: 0.9718999862670898\n",
            "\n",
            "Trial 3 summary\n",
            "Hyperparameters:\n",
            "num_layers: 2\n",
            "units_0: 32\n",
            "activation: relu\n",
            "dropout: True\n",
            "lr: 0.0007003239468763121\n",
            "units_1: 384\n",
            "units_2: 448\n",
            "Score: 0.9600499868392944\n",
            "\n",
            "Trial 0 summary\n",
            "Hyperparameters:\n",
            "num_layers: 2\n",
            "units_0: 32\n",
            "activation: relu\n",
            "dropout: True\n",
            "lr: 0.0009256912616414935\n",
            "units_1: 32\n",
            "Score: 0.9527499973773956\n",
            "\n",
            "Trial 1 summary\n",
            "Hyperparameters:\n",
            "num_layers: 3\n",
            "units_0: 160\n",
            "activation: tanh\n",
            "dropout: True\n",
            "lr: 0.0002067568437134789\n",
            "units_1: 64\n",
            "units_2: 32\n",
            "Score: 0.9470999836921692\n",
            "\n",
            "Trial 4 summary\n",
            "Hyperparameters:\n",
            "num_layers: 1\n",
            "units_0: 32\n",
            "activation: tanh\n",
            "dropout: True\n",
            "lr: 0.0008971191958347238\n",
            "units_1: 256\n",
            "units_2: 480\n",
            "Score: 0.9354499876499176\n",
            "\u001b[1m313/313\u001b[0m \u001b[32m━━━━━━━━━━━━━━━━━━━━\u001b[0m\u001b[37m\u001b[0m \u001b[1m1s\u001b[0m 3ms/step - accuracy: 0.9760 - loss: 0.0849\n",
            "Model accuracy: 97.95%\n"
          ]
        }
      ],
      "source": [
        "import numpy as np\n",
        "import keras_tuner\n",
        "import keras\n",
        "from keras import layers\n",
        "\n",
        "###-------------------------- BUILD MODEL -------------------------###\n",
        "def build_model(hp):\n",
        "    model = keras.Sequential()\n",
        "    model.add(layers.Flatten())\n",
        "    # Tune the number of layers.\n",
        "    for i in range(hp.Int(\"num_layers\", 1, 3)):\n",
        "        model.add(\n",
        "            layers.Dense(\n",
        "                # Tune number of units separately.\n",
        "                units=hp.Int(f\"units_{i}\", min_value=32, max_value=512, step=32),\n",
        "                activation=hp.Choice(\"activation\", [\"relu\", \"tanh\"]),\n",
        "            )\n",
        "        )\n",
        "    if hp.Boolean(\"dropout\"):\n",
        "        model.add(layers.Dropout(rate=0.25))\n",
        "    model.add(layers.Dense(10, activation=\"softmax\"))\n",
        "    learning_rate = hp.Float(\"lr\", min_value=1e-4, max_value=1e-2, sampling=\"log\")\n",
        "    model.compile(\n",
        "        optimizer=keras.optimizers.Adam(learning_rate=learning_rate),\n",
        "        loss=\"categorical_crossentropy\",\n",
        "        metrics=[\"accuracy\"],\n",
        "    )\n",
        "    return model\n",
        "\n",
        "# build_model(keras_tuner.HyperParameters())\n",
        "\n",
        "\n",
        "###---------------- PARTITION DATA INTO TRAIN/VALIDATE/TEST ----------###\n",
        "(x, y), (x_test, y_test) = keras.datasets.mnist.load_data()\n",
        "\n",
        "x_train = x[:-10000]\n",
        "x_val   = x[-10000:]\n",
        "y_train = y[:-10000]\n",
        "y_val   = y[-10000:]\n",
        "\n",
        "x_train = np.expand_dims(x_train, -1).astype(\"float32\") / 255.0\n",
        "x_val   = np.expand_dims(x_val, -1).astype(\"float32\") / 255.0\n",
        "x_test  = np.expand_dims(x_test, -1).astype(\"float32\") / 255.0\n",
        "\n",
        "num_classes = 10\n",
        "y_train = keras.utils.to_categorical(y_train, num_classes)\n",
        "y_val   = keras.utils.to_categorical(y_val, num_classes)\n",
        "y_test  = keras.utils.to_categorical(y_test, num_classes)\n",
        "\n",
        "###------------------ FIT TUNER & RUN SEARCH ---------------------###\n",
        "tuner = keras_tuner.RandomSearch(\n",
        "    hypermodel     = build_model,\n",
        "    objective      = \"val_accuracy\",\n",
        "    max_trials     = 5,\n",
        "    executions_per_trial = 2,\n",
        "    overwrite      = True,\n",
        "    directory      = \"keras_tuner\",\n",
        "    project_name   = \"helloworld\",\n",
        ")\n",
        "\n",
        "# Begin search\n",
        "tuner.search(x_train, y_train, epochs=2, validation_data=(x_val, y_val))\n",
        "\n",
        "# Get the top N models.\n",
        "models = tuner.get_best_models(num_models=2)\n",
        "best_model = models[0]\n",
        "best_model.summary()\n",
        "\n",
        "# Search summary\n",
        "tuner.results_summary()\n",
        "\n",
        "\n",
        "###--------------------- FIT MODEL & CLASSIFY---------------------------###\n",
        "# Fit with the entire dataset.\n",
        "X = np.concatenate((x_train, x_val))\n",
        "y = np.concatenate((y_train, y_val))\n",
        "\n",
        "# Get the top N hyperparameters.\n",
        "best_hps = tuner.get_best_hyperparameters(5)\n",
        "# Build the model with the best hp.\n",
        "model = build_model(best_hps[0])\n",
        "\n",
        "model.fit(x=X, y=y, epochs=10, batch_size=96, verbose=0)\n",
        "\n",
        "# Evaluate the model\n",
        "_, accuracy = model.evaluate(x_test, y_test, verbose=1)\n",
        "\n",
        "print(f\"Model accuracy: {accuracy * 100:.2f}%\")\n"
      ]
    },
    {
      "cell_type": "code",
      "execution_count": null,
      "metadata": {
        "colab": {
          "base_uri": "https://localhost:8080/",
          "height": 232
        },
        "id": "0vB_KXZtxOKQ",
        "outputId": "07044809-bd8a-4e2a-8688-4f923c1553ce"
      },
      "outputs": [
        {
          "data": {
            "text/html": [
              "<pre style=\"white-space:pre;overflow-x:auto;line-height:normal;font-family:Menlo,'DejaVu Sans Mono',consolas,'Courier New',monospace\"><span style=\"font-weight: bold\">Model: \"sequential\"</span>\n",
              "</pre>\n"
            ],
            "text/plain": [
              "\u001b[1mModel: \"sequential\"\u001b[0m\n"
            ]
          },
          "metadata": {},
          "output_type": "display_data"
        },
        {
          "data": {
            "text/html": [
              "<pre style=\"white-space:pre;overflow-x:auto;line-height:normal;font-family:Menlo,'DejaVu Sans Mono',consolas,'Courier New',monospace\">┏━━━━━━━━━━━━━━━━━━━━━━━━━━━━━━━━━━━━━━┳━━━━━━━━━━━━━━━━━━━━━━━━━━━━━┳━━━━━━━━━━━━━━━━━┓\n",
              "┃<span style=\"font-weight: bold\"> Layer (type)                         </span>┃<span style=\"font-weight: bold\"> Output Shape                </span>┃<span style=\"font-weight: bold\">         Param # </span>┃\n",
              "┡━━━━━━━━━━━━━━━━━━━━━━━━━━━━━━━━━━━━━━╇━━━━━━━━━━━━━━━━━━━━━━━━━━━━━╇━━━━━━━━━━━━━━━━━┩\n",
              "│ flatten (<span style=\"color: #0087ff; text-decoration-color: #0087ff\">Flatten</span>)                    │ (<span style=\"color: #00d7ff; text-decoration-color: #00d7ff\">None</span>, <span style=\"color: #00af00; text-decoration-color: #00af00\">784</span>)                 │               <span style=\"color: #00af00; text-decoration-color: #00af00\">0</span> │\n",
              "├──────────────────────────────────────┼─────────────────────────────┼─────────────────┤\n",
              "│ dense (<span style=\"color: #0087ff; text-decoration-color: #0087ff\">Dense</span>)                        │ (<span style=\"color: #00d7ff; text-decoration-color: #00d7ff\">None</span>, <span style=\"color: #00af00; text-decoration-color: #00af00\">352</span>)                 │         <span style=\"color: #00af00; text-decoration-color: #00af00\">276,320</span> │\n",
              "├──────────────────────────────────────┼─────────────────────────────┼─────────────────┤\n",
              "│ dense_1 (<span style=\"color: #0087ff; text-decoration-color: #0087ff\">Dense</span>)                      │ (<span style=\"color: #00d7ff; text-decoration-color: #00d7ff\">None</span>, <span style=\"color: #00af00; text-decoration-color: #00af00\">10</span>)                  │           <span style=\"color: #00af00; text-decoration-color: #00af00\">3,530</span> │\n",
              "└──────────────────────────────────────┴─────────────────────────────┴─────────────────┘\n",
              "</pre>\n"
            ],
            "text/plain": [
              "┏━━━━━━━━━━━━━━━━━━━━━━━━━━━━━━━━━━━━━━┳━━━━━━━━━━━━━━━━━━━━━━━━━━━━━┳━━━━━━━━━━━━━━━━━┓\n",
              "┃\u001b[1m \u001b[0m\u001b[1mLayer (type)                        \u001b[0m\u001b[1m \u001b[0m┃\u001b[1m \u001b[0m\u001b[1mOutput Shape               \u001b[0m\u001b[1m \u001b[0m┃\u001b[1m \u001b[0m\u001b[1m        Param #\u001b[0m\u001b[1m \u001b[0m┃\n",
              "┡━━━━━━━━━━━━━━━━━━━━━━━━━━━━━━━━━━━━━━╇━━━━━━━━━━━━━━━━━━━━━━━━━━━━━╇━━━━━━━━━━━━━━━━━┩\n",
              "│ flatten (\u001b[38;5;33mFlatten\u001b[0m)                    │ (\u001b[38;5;45mNone\u001b[0m, \u001b[38;5;34m784\u001b[0m)                 │               \u001b[38;5;34m0\u001b[0m │\n",
              "├──────────────────────────────────────┼─────────────────────────────┼─────────────────┤\n",
              "│ dense (\u001b[38;5;33mDense\u001b[0m)                        │ (\u001b[38;5;45mNone\u001b[0m, \u001b[38;5;34m352\u001b[0m)                 │         \u001b[38;5;34m276,320\u001b[0m │\n",
              "├──────────────────────────────────────┼─────────────────────────────┼─────────────────┤\n",
              "│ dense_1 (\u001b[38;5;33mDense\u001b[0m)                      │ (\u001b[38;5;45mNone\u001b[0m, \u001b[38;5;34m10\u001b[0m)                  │           \u001b[38;5;34m3,530\u001b[0m │\n",
              "└──────────────────────────────────────┴─────────────────────────────┴─────────────────┘\n"
            ]
          },
          "metadata": {},
          "output_type": "display_data"
        },
        {
          "data": {
            "text/html": [
              "<pre style=\"white-space:pre;overflow-x:auto;line-height:normal;font-family:Menlo,'DejaVu Sans Mono',consolas,'Courier New',monospace\"><span style=\"font-weight: bold\"> Total params: </span><span style=\"color: #00af00; text-decoration-color: #00af00\">279,850</span> (1.07 MB)\n",
              "</pre>\n"
            ],
            "text/plain": [
              "\u001b[1m Total params: \u001b[0m\u001b[38;5;34m279,850\u001b[0m (1.07 MB)\n"
            ]
          },
          "metadata": {},
          "output_type": "display_data"
        },
        {
          "data": {
            "text/html": [
              "<pre style=\"white-space:pre;overflow-x:auto;line-height:normal;font-family:Menlo,'DejaVu Sans Mono',consolas,'Courier New',monospace\"><span style=\"font-weight: bold\"> Trainable params: </span><span style=\"color: #00af00; text-decoration-color: #00af00\">279,850</span> (1.07 MB)\n",
              "</pre>\n"
            ],
            "text/plain": [
              "\u001b[1m Trainable params: \u001b[0m\u001b[38;5;34m279,850\u001b[0m (1.07 MB)\n"
            ]
          },
          "metadata": {},
          "output_type": "display_data"
        },
        {
          "data": {
            "text/html": [
              "<pre style=\"white-space:pre;overflow-x:auto;line-height:normal;font-family:Menlo,'DejaVu Sans Mono',consolas,'Courier New',monospace\"><span style=\"font-weight: bold\"> Non-trainable params: </span><span style=\"color: #00af00; text-decoration-color: #00af00\">0</span> (0.00 B)\n",
              "</pre>\n"
            ],
            "text/plain": [
              "\u001b[1m Non-trainable params: \u001b[0m\u001b[38;5;34m0\u001b[0m (0.00 B)\n"
            ]
          },
          "metadata": {},
          "output_type": "display_data"
        }
      ],
      "source": [
        "models[0].summary()"
      ]
    },
    {
      "cell_type": "markdown",
      "metadata": {
        "id": "Xep5L0oMrOAh"
      },
      "source": [
        "# MLP (MNIST: FUNCTIONAL API)"
      ]
    },
    {
      "cell_type": "code",
      "execution_count": null,
      "metadata": {
        "colab": {
          "base_uri": "https://localhost:8080/",
          "height": 1000
        },
        "id": "DYh_o7Hlxa4n",
        "outputId": "432d0ce0-0e2c-4bb0-e0d7-c9df003f7195"
      },
      "outputs": [
        {
          "name": "stdout",
          "output_type": "stream",
          "text": [
            "Trial 3 Complete [00h 00m 49s]\n",
            "val_accuracy: 0.947350025177002\n",
            "\n",
            "Best val_accuracy So Far: 0.947350025177002\n",
            "Total elapsed time: 00h 03m 47s\n"
          ]
        },
        {
          "name": "stderr",
          "output_type": "stream",
          "text": [
            "/usr/local/lib/python3.11/dist-packages/keras/src/saving/saving_lib.py:713: UserWarning: Skipping variable loading for optimizer 'adam', because it has 2 variables whereas the saved optimizer has 18 variables. \n",
            "  saveable.load_own_variables(weights_store.get(inner_path))\n"
          ]
        },
        {
          "data": {
            "text/html": [
              "<pre style=\"white-space:pre;overflow-x:auto;line-height:normal;font-family:Menlo,'DejaVu Sans Mono',consolas,'Courier New',monospace\"><span style=\"font-weight: bold\">Model: \"functional\"</span>\n",
              "</pre>\n"
            ],
            "text/plain": [
              "\u001b[1mModel: \"functional\"\u001b[0m\n"
            ]
          },
          "metadata": {},
          "output_type": "display_data"
        },
        {
          "data": {
            "text/html": [
              "<pre style=\"white-space:pre;overflow-x:auto;line-height:normal;font-family:Menlo,'DejaVu Sans Mono',consolas,'Courier New',monospace\">┏━━━━━━━━━━━━━━━━━━━━━━━━━━━━━━━━━━━━━━┳━━━━━━━━━━━━━━━━━━━━━━━━━━━━━┳━━━━━━━━━━━━━━━━━┓\n",
              "┃<span style=\"font-weight: bold\"> Layer (type)                         </span>┃<span style=\"font-weight: bold\"> Output Shape                </span>┃<span style=\"font-weight: bold\">         Param # </span>┃\n",
              "┡━━━━━━━━━━━━━━━━━━━━━━━━━━━━━━━━━━━━━━╇━━━━━━━━━━━━━━━━━━━━━━━━━━━━━╇━━━━━━━━━━━━━━━━━┩\n",
              "│ input_layer (<span style=\"color: #0087ff; text-decoration-color: #0087ff\">InputLayer</span>)             │ (<span style=\"color: #00d7ff; text-decoration-color: #00d7ff\">None</span>, <span style=\"color: #00af00; text-decoration-color: #00af00\">28</span>, <span style=\"color: #00af00; text-decoration-color: #00af00\">28</span>, <span style=\"color: #00af00; text-decoration-color: #00af00\">1</span>)           │               <span style=\"color: #00af00; text-decoration-color: #00af00\">0</span> │\n",
              "├──────────────────────────────────────┼─────────────────────────────┼─────────────────┤\n",
              "│ flatten (<span style=\"color: #0087ff; text-decoration-color: #0087ff\">Flatten</span>)                    │ (<span style=\"color: #00d7ff; text-decoration-color: #00d7ff\">None</span>, <span style=\"color: #00af00; text-decoration-color: #00af00\">784</span>)                 │               <span style=\"color: #00af00; text-decoration-color: #00af00\">0</span> │\n",
              "├──────────────────────────────────────┼─────────────────────────────┼─────────────────┤\n",
              "│ batch_normalization                  │ (<span style=\"color: #00d7ff; text-decoration-color: #00d7ff\">None</span>, <span style=\"color: #00af00; text-decoration-color: #00af00\">784</span>)                 │           <span style=\"color: #00af00; text-decoration-color: #00af00\">3,136</span> │\n",
              "│ (<span style=\"color: #0087ff; text-decoration-color: #0087ff\">BatchNormalization</span>)                 │                             │                 │\n",
              "├──────────────────────────────────────┼─────────────────────────────┼─────────────────┤\n",
              "│ dense (<span style=\"color: #0087ff; text-decoration-color: #0087ff\">Dense</span>)                        │ (<span style=\"color: #00d7ff; text-decoration-color: #00d7ff\">None</span>, <span style=\"color: #00af00; text-decoration-color: #00af00\">56</span>)                  │          <span style=\"color: #00af00; text-decoration-color: #00af00\">43,960</span> │\n",
              "├──────────────────────────────────────┼─────────────────────────────┼─────────────────┤\n",
              "│ batch_normalization_1                │ (<span style=\"color: #00d7ff; text-decoration-color: #00d7ff\">None</span>, <span style=\"color: #00af00; text-decoration-color: #00af00\">56</span>)                  │             <span style=\"color: #00af00; text-decoration-color: #00af00\">224</span> │\n",
              "│ (<span style=\"color: #0087ff; text-decoration-color: #0087ff\">BatchNormalization</span>)                 │                             │                 │\n",
              "├──────────────────────────────────────┼─────────────────────────────┼─────────────────┤\n",
              "│ activation (<span style=\"color: #0087ff; text-decoration-color: #0087ff\">Activation</span>)              │ (<span style=\"color: #00d7ff; text-decoration-color: #00d7ff\">None</span>, <span style=\"color: #00af00; text-decoration-color: #00af00\">56</span>)                  │               <span style=\"color: #00af00; text-decoration-color: #00af00\">0</span> │\n",
              "├──────────────────────────────────────┼─────────────────────────────┼─────────────────┤\n",
              "│ dropout (<span style=\"color: #0087ff; text-decoration-color: #0087ff\">Dropout</span>)                    │ (<span style=\"color: #00d7ff; text-decoration-color: #00d7ff\">None</span>, <span style=\"color: #00af00; text-decoration-color: #00af00\">56</span>)                  │               <span style=\"color: #00af00; text-decoration-color: #00af00\">0</span> │\n",
              "├──────────────────────────────────────┼─────────────────────────────┼─────────────────┤\n",
              "│ output_layer (<span style=\"color: #0087ff; text-decoration-color: #0087ff\">Dense</span>)                 │ (<span style=\"color: #00d7ff; text-decoration-color: #00d7ff\">None</span>, <span style=\"color: #00af00; text-decoration-color: #00af00\">10</span>)                  │             <span style=\"color: #00af00; text-decoration-color: #00af00\">570</span> │\n",
              "├──────────────────────────────────────┼─────────────────────────────┼─────────────────┤\n",
              "│ activation_1 (<span style=\"color: #0087ff; text-decoration-color: #0087ff\">Activation</span>)            │ (<span style=\"color: #00d7ff; text-decoration-color: #00d7ff\">None</span>, <span style=\"color: #00af00; text-decoration-color: #00af00\">10</span>)                  │               <span style=\"color: #00af00; text-decoration-color: #00af00\">0</span> │\n",
              "└──────────────────────────────────────┴─────────────────────────────┴─────────────────┘\n",
              "</pre>\n"
            ],
            "text/plain": [
              "┏━━━━━━━━━━━━━━━━━━━━━━━━━━━━━━━━━━━━━━┳━━━━━━━━━━━━━━━━━━━━━━━━━━━━━┳━━━━━━━━━━━━━━━━━┓\n",
              "┃\u001b[1m \u001b[0m\u001b[1mLayer (type)                        \u001b[0m\u001b[1m \u001b[0m┃\u001b[1m \u001b[0m\u001b[1mOutput Shape               \u001b[0m\u001b[1m \u001b[0m┃\u001b[1m \u001b[0m\u001b[1m        Param #\u001b[0m\u001b[1m \u001b[0m┃\n",
              "┡━━━━━━━━━━━━━━━━━━━━━━━━━━━━━━━━━━━━━━╇━━━━━━━━━━━━━━━━━━━━━━━━━━━━━╇━━━━━━━━━━━━━━━━━┩\n",
              "│ input_layer (\u001b[38;5;33mInputLayer\u001b[0m)             │ (\u001b[38;5;45mNone\u001b[0m, \u001b[38;5;34m28\u001b[0m, \u001b[38;5;34m28\u001b[0m, \u001b[38;5;34m1\u001b[0m)           │               \u001b[38;5;34m0\u001b[0m │\n",
              "├──────────────────────────────────────┼─────────────────────────────┼─────────────────┤\n",
              "│ flatten (\u001b[38;5;33mFlatten\u001b[0m)                    │ (\u001b[38;5;45mNone\u001b[0m, \u001b[38;5;34m784\u001b[0m)                 │               \u001b[38;5;34m0\u001b[0m │\n",
              "├──────────────────────────────────────┼─────────────────────────────┼─────────────────┤\n",
              "│ batch_normalization                  │ (\u001b[38;5;45mNone\u001b[0m, \u001b[38;5;34m784\u001b[0m)                 │           \u001b[38;5;34m3,136\u001b[0m │\n",
              "│ (\u001b[38;5;33mBatchNormalization\u001b[0m)                 │                             │                 │\n",
              "├──────────────────────────────────────┼─────────────────────────────┼─────────────────┤\n",
              "│ dense (\u001b[38;5;33mDense\u001b[0m)                        │ (\u001b[38;5;45mNone\u001b[0m, \u001b[38;5;34m56\u001b[0m)                  │          \u001b[38;5;34m43,960\u001b[0m │\n",
              "├──────────────────────────────────────┼─────────────────────────────┼─────────────────┤\n",
              "│ batch_normalization_1                │ (\u001b[38;5;45mNone\u001b[0m, \u001b[38;5;34m56\u001b[0m)                  │             \u001b[38;5;34m224\u001b[0m │\n",
              "│ (\u001b[38;5;33mBatchNormalization\u001b[0m)                 │                             │                 │\n",
              "├──────────────────────────────────────┼─────────────────────────────┼─────────────────┤\n",
              "│ activation (\u001b[38;5;33mActivation\u001b[0m)              │ (\u001b[38;5;45mNone\u001b[0m, \u001b[38;5;34m56\u001b[0m)                  │               \u001b[38;5;34m0\u001b[0m │\n",
              "├──────────────────────────────────────┼─────────────────────────────┼─────────────────┤\n",
              "│ dropout (\u001b[38;5;33mDropout\u001b[0m)                    │ (\u001b[38;5;45mNone\u001b[0m, \u001b[38;5;34m56\u001b[0m)                  │               \u001b[38;5;34m0\u001b[0m │\n",
              "├──────────────────────────────────────┼─────────────────────────────┼─────────────────┤\n",
              "│ output_layer (\u001b[38;5;33mDense\u001b[0m)                 │ (\u001b[38;5;45mNone\u001b[0m, \u001b[38;5;34m10\u001b[0m)                  │             \u001b[38;5;34m570\u001b[0m │\n",
              "├──────────────────────────────────────┼─────────────────────────────┼─────────────────┤\n",
              "│ activation_1 (\u001b[38;5;33mActivation\u001b[0m)            │ (\u001b[38;5;45mNone\u001b[0m, \u001b[38;5;34m10\u001b[0m)                  │               \u001b[38;5;34m0\u001b[0m │\n",
              "└──────────────────────────────────────┴─────────────────────────────┴─────────────────┘\n"
            ]
          },
          "metadata": {},
          "output_type": "display_data"
        },
        {
          "data": {
            "text/html": [
              "<pre style=\"white-space:pre;overflow-x:auto;line-height:normal;font-family:Menlo,'DejaVu Sans Mono',consolas,'Courier New',monospace\"><span style=\"font-weight: bold\"> Total params: </span><span style=\"color: #00af00; text-decoration-color: #00af00\">47,890</span> (187.07 KB)\n",
              "</pre>\n"
            ],
            "text/plain": [
              "\u001b[1m Total params: \u001b[0m\u001b[38;5;34m47,890\u001b[0m (187.07 KB)\n"
            ]
          },
          "metadata": {},
          "output_type": "display_data"
        },
        {
          "data": {
            "text/html": [
              "<pre style=\"white-space:pre;overflow-x:auto;line-height:normal;font-family:Menlo,'DejaVu Sans Mono',consolas,'Courier New',monospace\"><span style=\"font-weight: bold\"> Trainable params: </span><span style=\"color: #00af00; text-decoration-color: #00af00\">46,210</span> (180.51 KB)\n",
              "</pre>\n"
            ],
            "text/plain": [
              "\u001b[1m Trainable params: \u001b[0m\u001b[38;5;34m46,210\u001b[0m (180.51 KB)\n"
            ]
          },
          "metadata": {},
          "output_type": "display_data"
        },
        {
          "data": {
            "text/html": [
              "<pre style=\"white-space:pre;overflow-x:auto;line-height:normal;font-family:Menlo,'DejaVu Sans Mono',consolas,'Courier New',monospace\"><span style=\"font-weight: bold\"> Non-trainable params: </span><span style=\"color: #00af00; text-decoration-color: #00af00\">1,680</span> (6.56 KB)\n",
              "</pre>\n"
            ],
            "text/plain": [
              "\u001b[1m Non-trainable params: \u001b[0m\u001b[38;5;34m1,680\u001b[0m (6.56 KB)\n"
            ]
          },
          "metadata": {},
          "output_type": "display_data"
        },
        {
          "name": "stdout",
          "output_type": "stream",
          "text": [
            "Results summary\n",
            "Results in keras_tuner/graspnet\n",
            "Showing 10 best trials\n",
            "Objective(name=\"val_accuracy\", direction=\"max\")\n",
            "\n",
            "Trial 2 summary\n",
            "Hyperparameters:\n",
            "num_layers: 1\n",
            "units_0: 56\n",
            "activation: relu\n",
            "dropout: True\n",
            "learning_rate: 0.0018402758353325106\n",
            "dropout_rate: 0.5\n",
            "units_1: 176\n",
            "units_2: 144\n",
            "Score: 0.947350025177002\n",
            "\n",
            "Trial 0 summary\n",
            "Hyperparameters:\n",
            "num_layers: 1\n",
            "units_0: 184\n",
            "activation: tanh\n",
            "dropout: True\n",
            "learning_rate: 0.032338472774012826\n",
            "dropout_rate: 0.25\n",
            "Score: 0.9323500096797943\n",
            "\n",
            "Trial 1 summary\n",
            "Hyperparameters:\n",
            "num_layers: 3\n",
            "units_0: 160\n",
            "activation: tanh\n",
            "dropout: False\n",
            "learning_rate: 1.641073925293833e-05\n",
            "dropout_rate: 0.5\n",
            "units_1: 8\n",
            "units_2: 8\n",
            "Score: 0.7022000253200531\n",
            "\u001b[1m313/313\u001b[0m \u001b[32m━━━━━━━━━━━━━━━━━━━━\u001b[0m\u001b[37m\u001b[0m \u001b[1m1s\u001b[0m 2ms/step - accuracy: 0.9550 - loss: 0.1646\n",
            "Model accuracy: 96.16%\n"
          ]
        }
      ],
      "source": [
        "import numpy as np\n",
        "import keras_tuner\n",
        "import keras\n",
        "from keras import layers\n",
        "from keras.models import Model\n",
        "\n",
        "###-------------------------- DEFINE MODEL ARCHITECTURE -------------------------###\n",
        "def build_model(hyperparams):\n",
        "    input_layer   = layers.Input(shape =(28, 28, 1))\n",
        "    block         = layers.Flatten()(input_layer)\n",
        "    block         = layers.BatchNormalization()(block)\n",
        "\n",
        "    # Tune the number of layers.\n",
        "    for i in range(hyperparams.Int(\"num_layers\", min_value=1, max_value=3)):\n",
        "        block       = layers.Dense(units=hyperparams.Int(f\"units_{i}\", min_value=8, max_value=256, step=8))(block)\n",
        "        block       = layers.BatchNormalization()(block)\n",
        "        block       = layers.Activation(hyperparams.Choice(\"activation\", [\"relu\",\"elu\", \"tanh\"]))(block)\n",
        "        if hyperparams.Boolean(\"dropout\"):\n",
        "            block   = layers.Dropout(rate=hyperparams.Float(\"dropout_rate\", min_value=0.25, max_value=0.75, step=0.25))(block)\n",
        "\n",
        "    model_output = layers.Dense(units=10, name = 'output_layer')(block)\n",
        "    model_output = layers.Activation('softmax')(model_output)\n",
        "\n",
        "    model = Model(inputs=input_layer, outputs=model_output)\n",
        "\n",
        "    learning_rate = hyperparams.Float(\"learning_rate\", min_value=1e-5, max_value=1e-1, sampling=\"log\")\n",
        "    optimizer = keras.optimizers.Adam(learning_rate=learning_rate)\n",
        "\n",
        "\t  # Compile model\n",
        "    model.compile(loss='categorical_crossentropy', optimizer=optimizer, metrics=['accuracy'])\n",
        "\n",
        "    return model\n",
        "\n",
        "\n",
        "###---------------- PARTITION DATA INTO TRAIN/VALIDATE/TEST ----------###\n",
        "(x, y), (x_test, y_test) = keras.datasets.mnist.load_data()\n",
        "\n",
        "x_train = x[:-10000]\n",
        "x_val   = x[-10000:]\n",
        "y_train = y[:-10000]\n",
        "y_val   = y[-10000:]\n",
        "\n",
        "x_train = np.expand_dims(x_train, -1).astype(\"float32\") / 255.0\n",
        "x_val   = np.expand_dims(x_val, -1).astype(\"float32\") / 255.0\n",
        "x_test  = np.expand_dims(x_test, -1).astype(\"float32\") / 255.0\n",
        "\n",
        "num_classes = 10\n",
        "y_train = keras.utils.to_categorical(y_train, num_classes)\n",
        "y_val   = keras.utils.to_categorical(y_val, num_classes)\n",
        "y_test  = keras.utils.to_categorical(y_test, num_classes)\n",
        "\n",
        "###------------------ FIT TUNER & RUN SEARCH ---------------------###\n",
        "tuner = keras_tuner.RandomSearch(\n",
        "    # hypermodel     = build_model(hyperparams=keras_tuner.HyperParameters(),input_shape=(28, 28, 1)),\n",
        "    hypermodel     = build_model, #Here, Pass the function, not the result of calling it\n",
        "    objective      = \"val_accuracy\",\n",
        "    max_trials     = 3,\n",
        "    executions_per_trial = 2,\n",
        "    overwrite      = True,\n",
        "    directory      = \"keras_tuner\",\n",
        "    project_name   = \"graspnet\",\n",
        ")\n",
        "\n",
        "# Begin search\n",
        "tuner.search(x_train, y_train, epochs=2, validation_data=(x_val, y_val))\n",
        "\n",
        "# Get the top N models.\n",
        "models = tuner.get_best_models(num_models=2)\n",
        "best_model = models[0]\n",
        "best_model.summary()\n",
        "\n",
        "# Search summary\n",
        "tuner.results_summary()\n",
        "\n",
        "###--------------------- FIT MODEL & CLASSIFY---------------------------###\n",
        "# Fit with the entire dataset.\n",
        "X = np.concatenate((x_train, x_val))\n",
        "y = np.concatenate((y_train, y_val))\n",
        "\n",
        "# Get the top N hyperparameters.\n",
        "best_hps = tuner.get_best_hyperparameters(5)\n",
        "# Build the model with the best hp.\n",
        "model = build_model(best_hps[0])\n",
        "\n",
        "model.fit(x=X, y=y, epochs=10, batch_size=96, verbose=0)\n",
        "\n",
        "# Evaluate the model\n",
        "_, accuracy = model.evaluate(x_test, y_test, verbose=1)\n",
        "\n",
        "print(f\"Model accuracy: {accuracy * 100:.2f}%\")\n"
      ]
    },
    {
      "cell_type": "code",
      "execution_count": null,
      "metadata": {
        "colab": {
          "base_uri": "https://localhost:8080/"
        },
        "id": "Eql071gUzcjl",
        "outputId": "37e4322d-5b18-4c2d-8d38-1b4dc5c026b9"
      },
      "outputs": [
        {
          "name": "stdout",
          "output_type": "stream",
          "text": [
            "Model accuracy: 97.46%\n"
          ]
        }
      ],
      "source": [
        "print(f\"Model accuracy: {accuracy * 100:.2f}%\")"
      ]
    },
    {
      "cell_type": "code",
      "execution_count": null,
      "metadata": {
        "id": "tTBzr7_t5M8n"
      },
      "outputs": [],
      "source": []
    },
    {
      "cell_type": "markdown",
      "metadata": {
        "id": "7D_cD0GX5RcE"
      },
      "source": [
        "# MLP (SONAR: SEQUENTIAL API)"
      ]
    },
    {
      "cell_type": "markdown",
      "metadata": {
        "id": "yLgbmBUf5fH7"
      },
      "source": [
        "STRATIFIED DATA SPLIT"
      ]
    },
    {
      "cell_type": "code",
      "execution_count": null,
      "metadata": {
        "id": "YzITADNl5NGc"
      },
      "outputs": [],
      "source": [
        "def get_stratified_data_splits_indexes(labels, train_ratio=0.7, test_ratio=0.15, validation_ratio=0.15, random_seed=None):\n",
        "    \"\"\"\n",
        "    Generate stratified indexes for train, test, and validation splits based on labels.\n",
        "\n",
        "    Args:\n",
        "        labels (array-like): The target variable used for stratification. Length must match the dataset size.\n",
        "        train_ratio (float): Proportion of the data for training. Default is 0.7.\n",
        "        test_ratio (float): Proportion of the data for testing. Default is 0.15.\n",
        "        validation_ratio (float): Proportion of the data for validation. Default is 0.15.\n",
        "        random_seed (int): Seed for reproducibility. Default is None.\n",
        "\n",
        "    Returns:\n",
        "        tuple: Indexes for train, test, and validation splits (train_idx, test_idx, val_idx).\n",
        "\n",
        "    Date: 01.25.2025.S\n",
        "    Author: CXF & the AI Assistant\n",
        "    \"\"\"\n",
        "\n",
        "    import numpy as np\n",
        "    from sklearn.model_selection import train_test_split\n",
        "\n",
        "    assert train_ratio + test_ratio + validation_ratio == 1.0, \"Ratios must sum to 1.\"\n",
        "    assert len(labels) > 0, \"Labels cannot be empty.\"\n",
        "\n",
        "    # Generate all indices\n",
        "    all_indices = np.arange(len(labels))\n",
        "\n",
        "    # Split into train and temp (test + validation) with stratification\n",
        "    train_idx, temp_idx, train_labels, temp_labels = train_test_split(\n",
        "        all_indices, labels, test_size=(1 - train_ratio), stratify=labels, random_state=random_seed\n",
        "    )\n",
        "\n",
        "    # Calculate the proportion of test/validation within the temp split\n",
        "    test_size_ratio = test_ratio / (test_ratio + validation_ratio)\n",
        "\n",
        "    # Split temp into test and validation with stratification\n",
        "    test_idx, val_idx, _, _ = train_test_split(\n",
        "        temp_idx, temp_labels, test_size=test_size_ratio, stratify=temp_labels, random_state=random_seed\n",
        "    )\n",
        "\n",
        "    return train_idx, test_idx, val_idx\n",
        "\n"
      ]
    },
    {
      "cell_type": "markdown",
      "metadata": {
        "id": "3BXIahFQ5lAu"
      },
      "source": [
        "MODEL ARCHITECTURE"
      ]
    },
    {
      "cell_type": "code",
      "execution_count": null,
      "metadata": {
        "colab": {
          "background_save": true,
          "base_uri": "https://localhost:8080/"
        },
        "collapsed": true,
        "id": "_jsMV8505kAb",
        "outputId": "cde35eac-aebb-4aa3-c57c-1413b4189d12"
      },
      "outputs": [
        {
          "name": "stdout",
          "output_type": "stream",
          "text": [
            "Trial 2 Complete [00h 00m 12s]\n",
            "val_accuracy: 0.59375\n",
            "\n",
            "Best val_accuracy So Far: 0.59375\n",
            "Total elapsed time: 00h 00m 23s\n",
            "\n",
            "Search: Running Trial #3\n",
            "\n",
            "Value             |Best Value So Far |Hyperparameter\n",
            "1                 |1                 |num_layers\n",
            "glorot_uniform    |glorot_uniform    |initializer\n",
            "0.25              |0.25              |dropout_rate\n",
            "1e-05             |1e-05             |learning_rate\n",
            "relu              |relu              |activation\n",
            "48                |16                |units_0\n",
            "\n",
            "Epoch 1/150\n",
            "\u001b[1m5/5\u001b[0m \u001b[32m━━━━━━━━━━━━━━━━━━━━\u001b[0m\u001b[37m\u001b[0m \u001b[1m4s\u001b[0m 331ms/step - accuracy: 0.3629 - loss: 1.0104 - val_accuracy: 0.3125 - val_loss: 1.0076\n",
            "Epoch 2/150\n",
            "\u001b[1m5/5\u001b[0m \u001b[32m━━━━━━━━━━━━━━━━━━━━\u001b[0m\u001b[37m\u001b[0m \u001b[1m0s\u001b[0m 8ms/step - accuracy: 0.4026 - loss: 0.9884 - val_accuracy: 0.3125 - val_loss: 1.0023\n",
            "Epoch 3/150\n",
            "\u001b[1m5/5\u001b[0m \u001b[32m━━━━━━━━━━━━━━━━━━━━\u001b[0m\u001b[37m\u001b[0m \u001b[1m0s\u001b[0m 8ms/step - accuracy: 0.4139 - loss: 1.0197 - val_accuracy: 0.3125 - val_loss: 0.9979\n",
            "Epoch 4/150\n",
            "\u001b[1m5/5\u001b[0m \u001b[32m━━━━━━━━━━━━━━━━━━━━\u001b[0m\u001b[37m\u001b[0m \u001b[1m0s\u001b[0m 8ms/step - accuracy: 0.4171 - loss: 0.9664 - val_accuracy: 0.3125 - val_loss: 0.9938\n",
            "Epoch 5/150\n",
            "\u001b[1m5/5\u001b[0m \u001b[32m━━━━━━━━━━━━━━━━━━━━\u001b[0m\u001b[37m\u001b[0m \u001b[1m0s\u001b[0m 7ms/step - accuracy: 0.3991 - loss: 0.9369 - val_accuracy: 0.3125 - val_loss: 0.9906\n",
            "Epoch 6/150\n",
            "\u001b[1m5/5\u001b[0m \u001b[32m━━━━━━━━━━━━━━━━━━━━\u001b[0m\u001b[37m\u001b[0m \u001b[1m0s\u001b[0m 8ms/step - accuracy: 0.3777 - loss: 1.0001 - val_accuracy: 0.3125 - val_loss: 0.9873\n",
            "Epoch 7/150\n",
            "\u001b[1m5/5\u001b[0m \u001b[32m━━━━━━━━━━━━━━━━━━━━\u001b[0m\u001b[37m\u001b[0m \u001b[1m0s\u001b[0m 8ms/step - accuracy: 0.4465 - loss: 0.9279 - val_accuracy: 0.3125 - val_loss: 0.9839\n",
            "Epoch 8/150\n",
            "\u001b[1m5/5\u001b[0m \u001b[32m━━━━━━━━━━━━━━━━━━━━\u001b[0m\u001b[37m\u001b[0m \u001b[1m0s\u001b[0m 8ms/step - accuracy: 0.4263 - loss: 0.9688 - val_accuracy: 0.3125 - val_loss: 0.9812\n",
            "Epoch 9/150\n",
            "\u001b[1m5/5\u001b[0m \u001b[32m━━━━━━━━━━━━━━━━━━━━\u001b[0m\u001b[37m\u001b[0m \u001b[1m0s\u001b[0m 8ms/step - accuracy: 0.4132 - loss: 0.9947 - val_accuracy: 0.3125 - val_loss: 0.9787\n",
            "Epoch 10/150\n",
            "\u001b[1m5/5\u001b[0m \u001b[32m━━━━━━━━━━━━━━━━━━━━\u001b[0m\u001b[37m\u001b[0m \u001b[1m0s\u001b[0m 8ms/step - accuracy: 0.4238 - loss: 0.9587 - val_accuracy: 0.3125 - val_loss: 0.9770\n",
            "Epoch 11/150\n",
            "\u001b[1m5/5\u001b[0m \u001b[32m━━━━━━━━━━━━━━━━━━━━\u001b[0m\u001b[37m\u001b[0m \u001b[1m0s\u001b[0m 8ms/step - accuracy: 0.3969 - loss: 1.0145 - val_accuracy: 0.3125 - val_loss: 0.9749\n",
            "Epoch 1/150\n"
          ]
        }
      ],
      "source": [
        "import numpy as np\n",
        "import keras_tuner\n",
        "import keras\n",
        "from keras import layers\n",
        "from keras.models import Model\n",
        "from sklearn.preprocessing import StandardScaler\n",
        "from sklearn import preprocessing\n",
        "import pandas as pd\n",
        "from keras.callbacks import EarlyStopping\n",
        "\n",
        "###-------------------------- DEFINE MODEL ARCHITECTURE -------------------------###\n",
        "def build_model(hyperparams):\n",
        "    input_layer   = layers.Input(shape =(60, ))\n",
        "    block         = layers.BatchNormalization()(input_layer)\n",
        "\n",
        "    num_layers    = hyperparams.Int(\"num_layers\", min_value=1, max_value=3)\n",
        "    initializer   = hyperparams.Choice('initializer', ['glorot_uniform', 'glorot_normal', 'he_uniform','he_normal', 'lecun_uniform','lecun_normal'])\n",
        "    dropout_rate  = hyperparams.Float(\"dropout_rate\", min_value=0.25, max_value=0.75, step=0.1)\n",
        "    learning_rate = hyperparams.Float(\"learning_rate\", min_value=1e-5, max_value=1e-1, sampling=\"log\")\n",
        "    activation    = hyperparams.Choice(\"activation\", [\"relu\",\"leaky_relu\",\"elu\", \"tanh\"])\n",
        "    # Tune the number of layers.\n",
        "    for i in range(num_layers):\n",
        "        block       = layers.Dense(units=hyperparams.Int(f\"units_{i}\", min_value=16, max_value=256, step=16), kernel_initializer=initializer)(block)\n",
        "        block       = layers.BatchNormalization()(block)\n",
        "        block       = layers.Activation(activation=activation)(block)\n",
        "        # if hyperparams.Boolean(\"dropout\"):\n",
        "        block   = layers.Dropout(rate=dropout_rate)(block)\n",
        "\n",
        "    model_output = layers.Dense(units=1, name = 'output_layer')(block)\n",
        "    model_output = layers.Activation('sigmoid')(model_output)\n",
        "\n",
        "    model = Model(inputs=input_layer, outputs=model_output)\n",
        "\n",
        "    optimizer = keras.optimizers.Adam(learning_rate=learning_rate)\n",
        "\n",
        "\t  # Compile model\n",
        "    model.compile(loss='binary_crossentropy', optimizer=optimizer, metrics=['accuracy'])\n",
        "\n",
        "    return model\n",
        "\n",
        "\n",
        "###---------------- PARTITION DATA INTO TRAIN/VALIDATE/TEST ----------###\n",
        "\n",
        "# load dataset\n",
        "dataset = pd.read_csv(\"sonar.all-data\", header=None).values\n",
        "\n",
        "# split into input (X) and output (Y) variables\n",
        "X = dataset[:,0:60].astype(float)\n",
        "Y = dataset[:,60]\n",
        "\n",
        "# encode class values as integers\n",
        "encoder   = preprocessing.LabelEncoder()\n",
        "encoder.fit(Y)\n",
        "encoded_y = encoder.transform(Y)\n",
        "scaler = StandardScaler()\n",
        "x_scaled = scaler.fit_transform(X)\n",
        "\n",
        "train_idx, test_idx, val_idx = get_stratified_data_splits_indexes(\n",
        "    labels=encoded_y, train_ratio=0.7, test_ratio=0.15, validation_ratio=0.15, random_seed=42\n",
        ")\n",
        "\n",
        "x_train, x_test, x_val = x_scaled[train_idx], x_scaled[test_idx],x_scaled[val_idx]\n",
        "y_train, y_test, y_val = encoded_y[train_idx], encoded_y[test_idx],encoded_y[val_idx]\n",
        "\n",
        "###------------------ FIT TUNER & RUN SEARCH ---------------------###\n",
        "tuner = keras_tuner.GridSearch(\n",
        "    hypermodel     = build_model, # Here, Pass the function, not the result of calling it\n",
        "    objective      = \"val_accuracy\",\n",
        "    max_trials     = 500, # This defines the number of hyperparameter combinations to try.\n",
        "    executions_per_trial = 2, # This defines the number of times each combination of hyperparameters is tested (to account for variability in training). Typical range: 1-5\n",
        "    overwrite      = True,\n",
        "    directory      = \"keras_tuner\",\n",
        "    project_name   = \"graspnet\",\n",
        ")\n",
        "# tuners: RandomSearch, GridSearch\n",
        "\n",
        "# Early stopping callback for parameter search\n",
        "early_stopping_cb_ktuner = EarlyStopping(\n",
        "    monitor  = 'val_accuracy',  # Metric to monitor during final training\n",
        "    patience = 10,          # Stop after 5 epochs of no improvement\n",
        "    mode='max', # what to do to the objective performance measure specified in 'monitor',\n",
        "    # min_delta = 0.5, # minimum change to performance metric to consider a change\n",
        "    restore_best_weights=True\n",
        ")\n",
        "\n",
        "# Begin search\n",
        "tuner.search(x_train, y_train, epochs=150, validation_data=(x_val, y_val), callbacks=[early_stopping_cb_ktuner])\n",
        "\n",
        "# Get the top N models.\n",
        "models = tuner.get_best_models(num_models=2)\n",
        "best_model = models[0]\n",
        "best_model.summary()\n",
        "\n",
        "# Search summary\n",
        "tuner.results_summary()\n",
        "\n",
        "###--------------------- FIT MODEL & CLASSIFY---------------------------###\n",
        "\n",
        "# Get the top N hyperparameters.\n",
        "best_hps = tuner.get_best_hyperparameters(num_trials=5)\n",
        "# Build the model with the best hp.\n",
        "model = build_model(best_hps[0])\n",
        "\n",
        "# Early stopping callback for parameter search\n",
        "early_stopping_cb_training = EarlyStopping(\n",
        "    monitor='val_accuracy',  # Metric to monitor during final training\n",
        "    patience=10,          # Stop after 5 epochs of no improvement\n",
        "    mode='max', # what to do to the objective performance measure specified in 'monitor'\n",
        "    restore_best_weights=True\n",
        ")\n",
        "\n",
        "# Fit with the entire dataset.\n",
        "# X = np.concatenate((x_train, x_val))\n",
        "# y = np.concatenate((y_train, y_val))\n",
        "# model.fit(x=x_train, y=y_train, validation_data=(x_val, y_val), epochs=200, batch_size=96,callbacks=[early_stopping_cb_training], verbose=0)\n",
        "\n",
        "# # Evaluate the model\n",
        "# _, accuracy = model.evaluate(x_test, y_test, verbose=1)\n",
        "\n",
        "# print(f\"Model accuracy: {accuracy * 100:.2f}%\")\n",
        "\n",
        "# Fit model\n",
        "history = model.fit(x=x_train, y=y_train, validation_data=(x_val, y_val), epochs=300, batch_size=96,callbacks=[early_stopping_cb_training], verbose=0)\n",
        "\n",
        "# Evaluate the model\n",
        "_, accuracy_train = model.evaluate(x_train, y_train, verbose=0)\n",
        "_, accuracy_test = model.evaluate(x_test, y_test, verbose=1)\n",
        "\n",
        "print(f\"Train accuracy: {accuracy_train * 100:.2f}% | Test accuracy: {accuracy_test * 100:.2f}%\")\n"
      ]
    },
    {
      "cell_type": "markdown",
      "metadata": {
        "id": "o9ZBKYEnx2P0"
      },
      "source": [
        "### Reload Optimized Model Architecture"
      ]
    },
    {
      "cell_type": "code",
      "execution_count": null,
      "metadata": {
        "colab": {
          "base_uri": "https://localhost:8080/"
        },
        "id": "oPK1Fr72x8id",
        "outputId": "a97e3a77-282b-49c0-89bc-a98edebf9300"
      },
      "outputs": [
        {
          "name": "stdout",
          "output_type": "stream",
          "text": [
            "Reloading Tuner from keras_tuner/graspnet/tuner0.json\n"
          ]
        }
      ],
      "source": [
        "######\n",
        "# If your tuner was originally created with additional arguments (e.g., executions_per_trial, custom callbacks, etc.), you should recreate it with the same parameters (excluding overwrite=True).\n",
        "######\n",
        "import keras_tuner\n",
        "tuner = keras_tuner.GridSearch(\n",
        "    hypermodel     = build_model, # Here, Pass the function, not the result of calling it\n",
        "    objective      = \"val_accuracy\",\n",
        "    max_trials     = 500, # This defines the number of hyperparameter combinations to try.\n",
        "    executions_per_trial = 2, # This defines the number of times each combination of hyperparameters is tested (to account for variability in training). Typical range: 1-5\n",
        "    overwrite      = False, # Important: set overwrite to False to tell Keras Tuner to reload (not overwrite) existing search results\n",
        "    directory      = \"keras_tuner\", # Must match your saved project directory\n",
        "    project_name   = \"graspnet\", # Must match your saved project directory\n",
        ")\n",
        "\n",
        "tuner.reload()  # Explicitly reloads from the saved trial data\n"
      ]
    },
    {
      "cell_type": "markdown",
      "metadata": {
        "id": "H9VKoztDx9Lm"
      },
      "source": [
        "## Train Model"
      ]
    },
    {
      "cell_type": "code",
      "execution_count": null,
      "metadata": {
        "colab": {
          "base_uri": "https://localhost:8080/",
          "height": 466
        },
        "id": "3ihn89wAMs6b",
        "outputId": "b3d65469-58f4-4719-dd92-32a8057d5e24"
      },
      "outputs": [
        {
          "name": "stdout",
          "output_type": "stream",
          "text": [
            "\u001b[1m1/1\u001b[0m \u001b[32m━━━━━━━━━━━━━━━━━━━━\u001b[0m\u001b[37m\u001b[0m \u001b[1m0s\u001b[0m 40ms/step - accuracy: 0.7097 - loss: 0.6694\n",
            "Train accuracy: 90.34% | Test accuracy: 70.97%\n"
          ]
        },
        {
          "data": {
            "image/png": "[encoded data removed]",
            "text/plain": [
              "<Figure size 640x480 with 1 Axes>"
            ]
          },
          "metadata": {},
          "output_type": "display_data"
        }
      ],
      "source": [
        "from keras.callbacks import EarlyStopping\n",
        "\n",
        "# Get the top N hyperparameters.\n",
        "best_hps = tuner.get_best_hyperparameters(num_trials=5)\n",
        "# Build the model with the best hp.\n",
        "model = build_model(best_hps[0])\n",
        "\n",
        "# Early stopping callback for parameter search\n",
        "early_stopping_cb_training = EarlyStopping(\n",
        "    monitor='val_accuracy',  # Metric to monitor during final training\n",
        "    patience=25,          # Stop after 5 epochs of no improvement\n",
        "    mode='max', # what to do to the objective performance measure specified in 'monitor'\n",
        "    # min_delta = 0.5, # minimum change to performance metric to consider a change\n",
        "\n",
        "    restore_best_weights=True\n",
        ")\n",
        "\n",
        "# Fit model\n",
        "history = model.fit(x=x_train, y=y_train, validation_data=(x_val, y_val), epochs=500, batch_size=96,callbacks=[early_stopping_cb_training], verbose=0)\n",
        "\n",
        "# Evaluate the model\n",
        "_, accuracy_train = model.evaluate(x_train, y_train, verbose=0)\n",
        "_, accuracy_test  = model.evaluate(x_test, y_test, verbose=1)\n",
        "\n",
        "print(f\"Train accuracy: {accuracy_train * 100:.2f}% | Test accuracy: {accuracy_test * 100:.2f}%\")\n",
        "\n",
        "# plot training history\n",
        "from matplotlib import pyplot\n",
        "pyplot.plot(history.history['loss'], label='train')\n",
        "pyplot.plot(history.history['val_loss'], label='test')\n",
        "pyplot.legend()\n",
        "pyplot.show()\n"
      ]
    },
    {
      "cell_type": "code",
      "execution_count": null,
      "metadata": {
        "colab": {
          "base_uri": "https://localhost:8080/",
          "height": 1000
        },
        "id": "G8Vcf-1hSvmf",
        "outputId": "4fe260af-8d69-4080-b843-60db8d90f814"
      },
      "outputs": [
        {
          "data": {
            "image/png": "[encoded data removed]",
            "text/plain": [
              "<IPython.core.display.Image object>"
            ]
          },
          "execution_count": 19,
          "metadata": {},
          "output_type": "execute_result"
        }
      ],
      "source": [
        "# Plot model architecture\n",
        "from tensorflow.keras.utils import plot_model\n",
        "\n",
        "# Save model diagram as an image\n",
        "plot_model(model, to_file=\"model_architecture.png\", show_shapes=True)\n",
        "\n"
      ]
    },
    {
      "cell_type": "code",
      "execution_count": null,
      "metadata": {
        "colab": {
          "base_uri": "https://localhost:8080/"
        },
        "id": "hZdEmh6x41d9",
        "outputId": "2637cb48-0820-4a4c-8fd7-1332e3ad8b88"
      },
      "outputs": [
        {
          "name": "stdout",
          "output_type": "stream",
          "text": [
            "Layer 1: input_layer_5\n",
            "  Type: InputLayer\n",
            "  batch_shape: (None, 60)\n",
            "  dtype: float32\n",
            "  sparse: False\n",
            "  name: input_layer_5\n",
            "--------------------------------------------------\n",
            "Layer 2: batch_normalization_10\n",
            "  Type: BatchNormalization\n",
            "  name: batch_normalization_10\n",
            "  trainable: True\n",
            "  dtype: {'module': 'keras', 'class_name': 'DTypePolicy', 'config': {'name': 'float32'}, 'registered_name': None}\n",
            "  axis: -1\n",
            "  momentum: 0.99\n",
            "  epsilon: 0.001\n",
            "  center: True\n",
            "  scale: True\n",
            "  beta_initializer: {'module': 'keras.initializers', 'class_name': 'Zeros', 'config': {}, 'registered_name': None}\n",
            "  gamma_initializer: {'module': 'keras.initializers', 'class_name': 'Ones', 'config': {}, 'registered_name': None}\n",
            "  moving_mean_initializer: {'module': 'keras.initializers', 'class_name': 'Zeros', 'config': {}, 'registered_name': None}\n",
            "  moving_variance_initializer: {'module': 'keras.initializers', 'class_name': 'Ones', 'config': {}, 'registered_name': None}\n",
            "  beta_regularizer: None\n",
            "  gamma_regularizer: None\n",
            "  beta_constraint: None\n",
            "  gamma_constraint: None\n",
            "  synchronized: False\n",
            "--------------------------------------------------\n",
            "Layer 3: dense_5\n",
            "  Type: Dense\n",
            "  name: dense_5\n",
            "  trainable: True\n",
            "  dtype: {'module': 'keras', 'class_name': 'DTypePolicy', 'config': {'name': 'float32'}, 'registered_name': None}\n",
            "  units: 96\n",
            "  activation: linear\n",
            "  use_bias: True\n",
            "  kernel_initializer: {'module': 'keras.initializers', 'class_name': 'GlorotUniform', 'config': {'seed': None}, 'registered_name': None}\n",
            "  bias_initializer: {'module': 'keras.initializers', 'class_name': 'Zeros', 'config': {}, 'registered_name': None}\n",
            "  kernel_regularizer: None\n",
            "  bias_regularizer: None\n",
            "  kernel_constraint: None\n",
            "  bias_constraint: None\n",
            "--------------------------------------------------\n",
            "Layer 4: batch_normalization_11\n",
            "  Type: BatchNormalization\n",
            "  name: batch_normalization_11\n",
            "  trainable: True\n",
            "  dtype: {'module': 'keras', 'class_name': 'DTypePolicy', 'config': {'name': 'float32'}, 'registered_name': None}\n",
            "  axis: -1\n",
            "  momentum: 0.99\n",
            "  epsilon: 0.001\n",
            "  center: True\n",
            "  scale: True\n",
            "  beta_initializer: {'module': 'keras.initializers', 'class_name': 'Zeros', 'config': {}, 'registered_name': None}\n",
            "  gamma_initializer: {'module': 'keras.initializers', 'class_name': 'Ones', 'config': {}, 'registered_name': None}\n",
            "  moving_mean_initializer: {'module': 'keras.initializers', 'class_name': 'Zeros', 'config': {}, 'registered_name': None}\n",
            "  moving_variance_initializer: {'module': 'keras.initializers', 'class_name': 'Ones', 'config': {}, 'registered_name': None}\n",
            "  beta_regularizer: None\n",
            "  gamma_regularizer: None\n",
            "  beta_constraint: None\n",
            "  gamma_constraint: None\n",
            "  synchronized: False\n",
            "--------------------------------------------------\n",
            "Layer 5: activation_10\n",
            "  Type: Activation\n",
            "  name: activation_10\n",
            "  trainable: True\n",
            "  dtype: {'module': 'keras', 'class_name': 'DTypePolicy', 'config': {'name': 'float32'}, 'registered_name': None}\n",
            "  activation: relu\n",
            "--------------------------------------------------\n",
            "Layer 6: dropout_5\n",
            "  Type: Dropout\n",
            "  name: dropout_5\n",
            "  trainable: True\n",
            "  dtype: {'module': 'keras', 'class_name': 'DTypePolicy', 'config': {'name': 'float32'}, 'registered_name': None}\n",
            "  rate: 0.25\n",
            "  seed: None\n",
            "  noise_shape: None\n",
            "--------------------------------------------------\n",
            "Layer 7: output_layer\n",
            "  Type: Dense\n",
            "  name: output_layer\n",
            "  trainable: True\n",
            "  dtype: {'module': 'keras', 'class_name': 'DTypePolicy', 'config': {'name': 'float32'}, 'registered_name': None}\n",
            "  units: 1\n",
            "  activation: linear\n",
            "  use_bias: True\n",
            "  kernel_initializer: {'module': 'keras.initializers', 'class_name': 'GlorotUniform', 'config': {'seed': None}, 'registered_name': None}\n",
            "  bias_initializer: {'module': 'keras.initializers', 'class_name': 'Zeros', 'config': {}, 'registered_name': None}\n",
            "  kernel_regularizer: None\n",
            "  bias_regularizer: None\n",
            "  kernel_constraint: None\n",
            "  bias_constraint: None\n",
            "--------------------------------------------------\n",
            "Layer 8: activation_11\n",
            "  Type: Activation\n",
            "  name: activation_11\n",
            "  trainable: True\n",
            "  dtype: {'module': 'keras', 'class_name': 'DTypePolicy', 'config': {'name': 'float32'}, 'registered_name': None}\n",
            "  activation: sigmoid\n",
            "--------------------------------------------------\n"
          ]
        }
      ],
      "source": [
        "# Display detailed information about each layer\n",
        "for i, layer in enumerate(model.layers):\n",
        "    print(f\"Layer {i + 1}: {layer.name}\")\n",
        "    print(f\"  Type: {type(layer).__name__}\")\n",
        "\n",
        "    # Display configuration details specific to the layer type\n",
        "    config = layer.get_config()\n",
        "    for key, value in config.items():\n",
        "        print(f\"  {key}: {value}\")\n",
        "\n",
        "    print(\"-\" * 50)"
      ]
    },
    {
      "cell_type": "code",
      "execution_count": null,
      "metadata": {
        "colab": {
          "base_uri": "https://localhost:8080/",
          "height": 430
        },
        "id": "eqMSdr2EyZwE",
        "outputId": "a4e958c1-41cf-4c17-d0fd-ac7145c2b28b"
      },
      "outputs": [
        {
          "data": {
            "text/html": [
              "<pre style=\"white-space:pre;overflow-x:auto;line-height:normal;font-family:Menlo,'DejaVu Sans Mono',consolas,'Courier New',monospace\"><span style=\"font-weight: bold\">Model: \"functional\"</span>\n",
              "</pre>\n"
            ],
            "text/plain": [
              "\u001b[1mModel: \"functional\"\u001b[0m\n"
            ]
          },
          "metadata": {},
          "output_type": "display_data"
        },
        {
          "data": {
            "text/html": [
              "<pre style=\"white-space:pre;overflow-x:auto;line-height:normal;font-family:Menlo,'DejaVu Sans Mono',consolas,'Courier New',monospace\">┏━━━━━━━━━━━━━━━━━━━━━━━━━━━━━━━━━━━━━━┳━━━━━━━━━━━━━━━━━━━━━━━━━━━━━┳━━━━━━━━━━━━━━━━━┓\n",
              "┃<span style=\"font-weight: bold\"> Layer (type)                         </span>┃<span style=\"font-weight: bold\"> Output Shape                </span>┃<span style=\"font-weight: bold\">         Param # </span>┃\n",
              "┡━━━━━━━━━━━━━━━━━━━━━━━━━━━━━━━━━━━━━━╇━━━━━━━━━━━━━━━━━━━━━━━━━━━━━╇━━━━━━━━━━━━━━━━━┩\n",
              "│ input_layer (<span style=\"color: #0087ff; text-decoration-color: #0087ff\">InputLayer</span>)             │ (<span style=\"color: #00d7ff; text-decoration-color: #00d7ff\">None</span>, <span style=\"color: #00af00; text-decoration-color: #00af00\">60</span>)                  │               <span style=\"color: #00af00; text-decoration-color: #00af00\">0</span> │\n",
              "├──────────────────────────────────────┼─────────────────────────────┼─────────────────┤\n",
              "│ batch_normalization                  │ (<span style=\"color: #00d7ff; text-decoration-color: #00d7ff\">None</span>, <span style=\"color: #00af00; text-decoration-color: #00af00\">60</span>)                  │             <span style=\"color: #00af00; text-decoration-color: #00af00\">240</span> │\n",
              "│ (<span style=\"color: #0087ff; text-decoration-color: #0087ff\">BatchNormalization</span>)                 │                             │                 │\n",
              "├──────────────────────────────────────┼─────────────────────────────┼─────────────────┤\n",
              "│ dense (<span style=\"color: #0087ff; text-decoration-color: #0087ff\">Dense</span>)                        │ (<span style=\"color: #00d7ff; text-decoration-color: #00d7ff\">None</span>, <span style=\"color: #00af00; text-decoration-color: #00af00\">32</span>)                  │           <span style=\"color: #00af00; text-decoration-color: #00af00\">1,952</span> │\n",
              "├──────────────────────────────────────┼─────────────────────────────┼─────────────────┤\n",
              "│ batch_normalization_1                │ (<span style=\"color: #00d7ff; text-decoration-color: #00d7ff\">None</span>, <span style=\"color: #00af00; text-decoration-color: #00af00\">32</span>)                  │             <span style=\"color: #00af00; text-decoration-color: #00af00\">128</span> │\n",
              "│ (<span style=\"color: #0087ff; text-decoration-color: #0087ff\">BatchNormalization</span>)                 │                             │                 │\n",
              "├──────────────────────────────────────┼─────────────────────────────┼─────────────────┤\n",
              "│ activation (<span style=\"color: #0087ff; text-decoration-color: #0087ff\">Activation</span>)              │ (<span style=\"color: #00d7ff; text-decoration-color: #00d7ff\">None</span>, <span style=\"color: #00af00; text-decoration-color: #00af00\">32</span>)                  │               <span style=\"color: #00af00; text-decoration-color: #00af00\">0</span> │\n",
              "├──────────────────────────────────────┼─────────────────────────────┼─────────────────┤\n",
              "│ dropout (<span style=\"color: #0087ff; text-decoration-color: #0087ff\">Dropout</span>)                    │ (<span style=\"color: #00d7ff; text-decoration-color: #00d7ff\">None</span>, <span style=\"color: #00af00; text-decoration-color: #00af00\">32</span>)                  │               <span style=\"color: #00af00; text-decoration-color: #00af00\">0</span> │\n",
              "├──────────────────────────────────────┼─────────────────────────────┼─────────────────┤\n",
              "│ output_layer (<span style=\"color: #0087ff; text-decoration-color: #0087ff\">Dense</span>)                 │ (<span style=\"color: #00d7ff; text-decoration-color: #00d7ff\">None</span>, <span style=\"color: #00af00; text-decoration-color: #00af00\">1</span>)                   │              <span style=\"color: #00af00; text-decoration-color: #00af00\">33</span> │\n",
              "├──────────────────────────────────────┼─────────────────────────────┼─────────────────┤\n",
              "│ activation_1 (<span style=\"color: #0087ff; text-decoration-color: #0087ff\">Activation</span>)            │ (<span style=\"color: #00d7ff; text-decoration-color: #00d7ff\">None</span>, <span style=\"color: #00af00; text-decoration-color: #00af00\">1</span>)                   │               <span style=\"color: #00af00; text-decoration-color: #00af00\">0</span> │\n",
              "└──────────────────────────────────────┴─────────────────────────────┴─────────────────┘\n",
              "</pre>\n"
            ],
            "text/plain": [
              "┏━━━━━━━━━━━━━━━━━━━━━━━━━━━━━━━━━━━━━━┳━━━━━━━━━━━━━━━━━━━━━━━━━━━━━┳━━━━━━━━━━━━━━━━━┓\n",
              "┃\u001b[1m \u001b[0m\u001b[1mLayer (type)                        \u001b[0m\u001b[1m \u001b[0m┃\u001b[1m \u001b[0m\u001b[1mOutput Shape               \u001b[0m\u001b[1m \u001b[0m┃\u001b[1m \u001b[0m\u001b[1m        Param #\u001b[0m\u001b[1m \u001b[0m┃\n",
              "┡━━━━━━━━━━━━━━━━━━━━━━━━━━━━━━━━━━━━━━╇━━━━━━━━━━━━━━━━━━━━━━━━━━━━━╇━━━━━━━━━━━━━━━━━┩\n",
              "│ input_layer (\u001b[38;5;33mInputLayer\u001b[0m)             │ (\u001b[38;5;45mNone\u001b[0m, \u001b[38;5;34m60\u001b[0m)                  │               \u001b[38;5;34m0\u001b[0m │\n",
              "├──────────────────────────────────────┼─────────────────────────────┼─────────────────┤\n",
              "│ batch_normalization                  │ (\u001b[38;5;45mNone\u001b[0m, \u001b[38;5;34m60\u001b[0m)                  │             \u001b[38;5;34m240\u001b[0m │\n",
              "│ (\u001b[38;5;33mBatchNormalization\u001b[0m)                 │                             │                 │\n",
              "├──────────────────────────────────────┼─────────────────────────────┼─────────────────┤\n",
              "│ dense (\u001b[38;5;33mDense\u001b[0m)                        │ (\u001b[38;5;45mNone\u001b[0m, \u001b[38;5;34m32\u001b[0m)                  │           \u001b[38;5;34m1,952\u001b[0m │\n",
              "├──────────────────────────────────────┼─────────────────────────────┼─────────────────┤\n",
              "│ batch_normalization_1                │ (\u001b[38;5;45mNone\u001b[0m, \u001b[38;5;34m32\u001b[0m)                  │             \u001b[38;5;34m128\u001b[0m │\n",
              "│ (\u001b[38;5;33mBatchNormalization\u001b[0m)                 │                             │                 │\n",
              "├──────────────────────────────────────┼─────────────────────────────┼─────────────────┤\n",
              "│ activation (\u001b[38;5;33mActivation\u001b[0m)              │ (\u001b[38;5;45mNone\u001b[0m, \u001b[38;5;34m32\u001b[0m)                  │               \u001b[38;5;34m0\u001b[0m │\n",
              "├──────────────────────────────────────┼─────────────────────────────┼─────────────────┤\n",
              "│ dropout (\u001b[38;5;33mDropout\u001b[0m)                    │ (\u001b[38;5;45mNone\u001b[0m, \u001b[38;5;34m32\u001b[0m)                  │               \u001b[38;5;34m0\u001b[0m │\n",
              "├──────────────────────────────────────┼─────────────────────────────┼─────────────────┤\n",
              "│ output_layer (\u001b[38;5;33mDense\u001b[0m)                 │ (\u001b[38;5;45mNone\u001b[0m, \u001b[38;5;34m1\u001b[0m)                   │              \u001b[38;5;34m33\u001b[0m │\n",
              "├──────────────────────────────────────┼─────────────────────────────┼─────────────────┤\n",
              "│ activation_1 (\u001b[38;5;33mActivation\u001b[0m)            │ (\u001b[38;5;45mNone\u001b[0m, \u001b[38;5;34m1\u001b[0m)                   │               \u001b[38;5;34m0\u001b[0m │\n",
              "└──────────────────────────────────────┴─────────────────────────────┴─────────────────┘\n"
            ]
          },
          "metadata": {},
          "output_type": "display_data"
        },
        {
          "data": {
            "text/html": [
              "<pre style=\"white-space:pre;overflow-x:auto;line-height:normal;font-family:Menlo,'DejaVu Sans Mono',consolas,'Courier New',monospace\"><span style=\"font-weight: bold\"> Total params: </span><span style=\"color: #00af00; text-decoration-color: #00af00\">2,353</span> (9.19 KB)\n",
              "</pre>\n"
            ],
            "text/plain": [
              "\u001b[1m Total params: \u001b[0m\u001b[38;5;34m2,353\u001b[0m (9.19 KB)\n"
            ]
          },
          "metadata": {},
          "output_type": "display_data"
        },
        {
          "data": {
            "text/html": [
              "<pre style=\"white-space:pre;overflow-x:auto;line-height:normal;font-family:Menlo,'DejaVu Sans Mono',consolas,'Courier New',monospace\"><span style=\"font-weight: bold\"> Trainable params: </span><span style=\"color: #00af00; text-decoration-color: #00af00\">2,169</span> (8.47 KB)\n",
              "</pre>\n"
            ],
            "text/plain": [
              "\u001b[1m Trainable params: \u001b[0m\u001b[38;5;34m2,169\u001b[0m (8.47 KB)\n"
            ]
          },
          "metadata": {},
          "output_type": "display_data"
        },
        {
          "data": {
            "text/html": [
              "<pre style=\"white-space:pre;overflow-x:auto;line-height:normal;font-family:Menlo,'DejaVu Sans Mono',consolas,'Courier New',monospace\"><span style=\"font-weight: bold\"> Non-trainable params: </span><span style=\"color: #00af00; text-decoration-color: #00af00\">184</span> (736.00 B)\n",
              "</pre>\n"
            ],
            "text/plain": [
              "\u001b[1m Non-trainable params: \u001b[0m\u001b[38;5;34m184\u001b[0m (736.00 B)\n"
            ]
          },
          "metadata": {},
          "output_type": "display_data"
        }
      ],
      "source": [
        "best_model.summary()"
      ]
    },
    {
      "cell_type": "markdown",
      "metadata": {
        "id": "pPENXkiAGVrd"
      },
      "source": [
        "# Keras Tuner Pseudo-workflow"
      ]
    },
    {
      "cell_type": "code",
      "execution_count": null,
      "metadata": {
        "colab": {
          "base_uri": "https://localhost:8080/"
        },
        "id": "PxY0FKaY5kEz",
        "outputId": "2c335e1e-98fb-45d2-eb0d-f1dd649b00c0"
      },
      "outputs": [
        {
          "data": {
            "text/plain": [
              "(145, 60)"
            ]
          },
          "execution_count": 35,
          "metadata": {},
          "output_type": "execute_result"
        }
      ],
      "source": [
        "# for trial in 1 to max_trials:\n",
        "#     hp = select_hyperparameters()\n",
        "#     for execution in 1 to executions_per_trial:\n",
        "#         model = build_model(hp)\n",
        "#         for epoch in 1 to epochs:\n",
        "#             model.update_weights()"
      ]
    },
    {
      "cell_type": "code",
      "execution_count": null,
      "metadata": {
        "colab": {
          "base_uri": "https://localhost:8080/"
        },
        "id": "9X5dfARSsVwt",
        "outputId": "aa69ca65-3a44-4ba0-c367-87848e0afec3"
      },
      "outputs": [
        {
          "name": "stdout",
          "output_type": "stream",
          "text": [
            "Collecting keras-tuner\n",
            "  Downloading keras_tuner-1.4.7-py3-none-any.whl.metadata (5.4 kB)\n",
            "Requirement already satisfied: keras in /usr/local/lib/python3.11/dist-packages (from keras-tuner) (3.5.0)\n",
            "Requirement already satisfied: packaging in /usr/local/lib/python3.11/dist-packages (from keras-tuner) (24.2)\n",
            "Requirement already satisfied: requests in /usr/local/lib/python3.11/dist-packages (from keras-tuner) (2.32.3)\n",
            "Collecting kt-legacy (from keras-tuner)\n",
            "  Downloading kt_legacy-1.0.5-py3-none-any.whl.metadata (221 bytes)\n",
            "Requirement already satisfied: absl-py in /usr/local/lib/python3.11/dist-packages (from keras->keras-tuner) (1.4.0)\n",
            "Requirement already satisfied: numpy in /usr/local/lib/python3.11/dist-packages (from keras->keras-tuner) (1.26.4)\n",
            "Requirement already satisfied: rich in /usr/local/lib/python3.11/dist-packages (from keras->keras-tuner) (13.9.4)\n",
            "Requirement already satisfied: namex in /usr/local/lib/python3.11/dist-packages (from keras->keras-tuner) (0.0.8)\n",
            "Requirement already satisfied: h5py in /usr/local/lib/python3.11/dist-packages (from keras->keras-tuner) (3.12.1)\n",
            "Requirement already satisfied: optree in /usr/local/lib/python3.11/dist-packages (from keras->keras-tuner) (0.14.0)\n",
            "Requirement already satisfied: ml-dtypes in /usr/local/lib/python3.11/dist-packages (from keras->keras-tuner) (0.4.1)\n",
            "Requirement already satisfied: charset-normalizer<4,>=2 in /usr/local/lib/python3.11/dist-packages (from requests->keras-tuner) (3.4.1)\n",
            "Requirement already satisfied: idna<4,>=2.5 in /usr/local/lib/python3.11/dist-packages (from requests->keras-tuner) (3.10)\n",
            "Requirement already satisfied: urllib3<3,>=1.21.1 in /usr/local/lib/python3.11/dist-packages (from requests->keras-tuner) (2.3.0)\n",
            "Requirement already satisfied: certifi>=2017.4.17 in /usr/local/lib/python3.11/dist-packages (from requests->keras-tuner) (2024.12.14)\n",
            "Requirement already satisfied: typing-extensions>=4.5.0 in /usr/local/lib/python3.11/dist-packages (from optree->keras->keras-tuner) (4.12.2)\n",
            "Requirement already satisfied: markdown-it-py>=2.2.0 in /usr/local/lib/python3.11/dist-packages (from rich->keras->keras-tuner) (3.0.0)\n",
            "Requirement already satisfied: pygments<3.0.0,>=2.13.0 in /usr/local/lib/python3.11/dist-packages (from rich->keras->keras-tuner) (2.18.0)\n",
            "Requirement already satisfied: mdurl~=0.1 in /usr/local/lib/python3.11/dist-packages (from markdown-it-py>=2.2.0->rich->keras->keras-tuner) (0.1.2)\n",
            "Downloading keras_tuner-1.4.7-py3-none-any.whl (129 kB)\n",
            "\u001b[2K   \u001b[90m━━━━━━━━━━━━━━━━━━━━━━━━━━━━━━━━━━━━━━━━\u001b[0m \u001b[32m129.1/129.1 kB\u001b[0m \u001b[31m9.3 MB/s\u001b[0m eta \u001b[36m0:00:00\u001b[0m\n",
            "\u001b[?25hDownloading kt_legacy-1.0.5-py3-none-any.whl (9.6 kB)\n",
            "Installing collected packages: kt-legacy, keras-tuner\n",
            "Successfully installed keras-tuner-1.4.7 kt-legacy-1.0.5\n"
          ]
        }
      ],
      "source": [
        "!pip install keras-tuner --upgrade"
      ]
    }
  ],
  "metadata": {
    "colab": {
      "provenance": [],
      "authorship_tag": "ABX9TyMcOCq+pMWPyvDgx02062id",
      "include_colab_link": true
    },
    "kernelspec": {
      "display_name": "Python 3",
      "name": "python3"
    },
    "language_info": {
      "name": "python"
    }
  },
  "nbformat": 4,
  "nbformat_minor": 0
}